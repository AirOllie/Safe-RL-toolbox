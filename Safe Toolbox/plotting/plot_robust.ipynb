{
 "cells": [
  {
   "cell_type": "code",
   "execution_count": null,
   "metadata": {},
   "outputs": [],
   "source": [
    "import numpy as np\n",
    "from plotting_utils import *\n",
    "\n",
    "vio_RCPO_1 = np.ones(7) \n",
    "vio_RCPO_2 = np.ones(7)\n",
    "vio_RCPO_3 = np.ones(7)\n",
    "vio_RCPO = np.array([vio_RCPO_1, vio_RCPO_2, vio_RCPO_3]) * 100\n",
    "\n",
    "vio_LBAC_1 = np.array([0, 11, 30, 43, 49.9, 65.8, 71])\n",
    "vio_LBAC_2 = np.array([0, 15, 38, 46.2, 54.2, 56.1, 68])\n",
    "vio_LBAC_3 = np.array([0, 17.6, 35, 45.6, 56.6, 65.4, 58.5])\n",
    "vio_LBAC = np.array([vio_LBAC_1, vio_LBAC_2, vio_LBAC_3])\n",
    "\n",
    "vio_RSPO_1 = np.array([0, 19.2, 37.8, 62, 75.6, 80, 85.2])\n",
    "vio_RSPO_2 = np.array([0, 16, 39, 63, 75.6, 78, 85.6])\n",
    "vio_RSPO_3 = np.array([0, 23.8, 38, 62.5, 79.2, 94, 85.6])\n",
    "vio_RSPO_4 = np.array([0, 18.4, 34, 52.8, 58.4, 69, 76.4])\n",
    "vio_RSPO_5 = np.array([0, 20.6, 40.2, 54.4, 56.8, 74.6, 80.2])\n",
    "vio_RSPO_6 = np.array([0, 21.4, 41.4, 53.4, 59.8, 65, 82])\n",
    "vio_RSPO = np.array([vio_RSPO_1, vio_RSPO_2, vio_RSPO_3, vio_RSPO_4, vio_RSPO_5, vio_RSPO_6])\n",
    "\n",
    "vio_SQRL_1 = np.array([0, 22, 37, 56.6, 60.9, 70.2, 82.6])\n",
    "vio_SQRL_2 = np.array([0, 20.2, 39.8, 47.6, 55.6, 68.6, 74.8])\n",
    "vio_SQRL_3 = np.array([0, 23.8, 42.8, 53.4, 60.6, 70.6, 77.8])\n",
    "vio_SQRL = np.array([vio_SQRL_1, vio_SQRL_2, vio_SQRL_3])\n",
    "\n",
    "data = {\"RCPO\": vio_RCPO, \"LBAC\": vio_LBAC, \"RSPO\": vio_RSPO, \"SQRL\": vio_SQRL}\n",
    "v_ref = np.array([0.5, 3.5, 5.5, 7.5, 9.5, 11.5, 13.5])"
   ]
  },
  {
   "cell_type": "code",
   "execution_count": null,
   "metadata": {},
   "outputs": [],
   "source": [
    "import matplotlib.pyplot as plt\n",
    "plt.rcParams['text.usetex'] = False\n",
    "\n",
    "fig, axs = plt.subplots(1, figsize=(16, 8))\n",
    "axs.set_title(\"Robustness\", fontsize=48)\n",
    "axs.set_xlabel(\"V_{ref}\", fontsize=42)\n",
    "axs.set_ylabel(\"Violation Ratio\", fontsize=42)\n",
    "\n",
    "for alg in data:\n",
    "    val_mean, val_lb, val_ub = get_stats(data[alg])\n",
    "    axs.fill_between(\n",
    "    v_ref,\n",
    "    val_ub,\n",
    "    val_lb,\n",
    "    color=get_color(alg),\n",
    "    alpha=0.25,\n",
    "    label=get_legend_name(alg),\n",
    "    )\n",
    "    axs.plot(v_ref, val_mean, color=get_color(alg), linewidth=4)\n",
    "axs.legend(loc=\"upper left\", fontsize=36, frameon=False)"
   ]
  }
 ],
 "metadata": {
  "interpreter": {
   "hash": "96e0b108776c78b5cda65fd4c3038f220ed3a169480f8d80518a0bf08276259c"
  },
  "kernelspec": {
   "display_name": "Python 3.9.12 ('robo_base')",
   "language": "python",
   "name": "python3"
  },
  "language_info": {
   "codemirror_mode": {
    "name": "ipython",
    "version": 3
   },
   "file_extension": ".py",
   "mimetype": "text/x-python",
   "name": "python",
   "nbconvert_exporter": "python",
   "pygments_lexer": "ipython3",
   "version": "3.9.12"
  },
  "orig_nbformat": 4
 },
 "nbformat": 4,
 "nbformat_minor": 2
}
