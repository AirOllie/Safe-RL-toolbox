{
 "cells": [
  {
   "cell_type": "code",
   "execution_count": null,
   "metadata": {},
   "outputs": [],
   "source": [
    "import numpy as np\n",
    "import pandas as pd\n",
    "import matplotlib.pyplot as plt\n",
    "\n",
    "dir = \"/home/shaohang/Study/reinforcement_learning/safe_rl/records/data_records/\""
   ]
  },
  {
   "cell_type": "code",
   "execution_count": null,
   "metadata": {},
   "outputs": [],
   "source": [
    "def plot_car_error(experiment_map, axs):\n",
    "    names = [\"time\", \"real_x\", \"real_y\", \"real_theta\", \"des_x\", \"des_y\", \"des_theta\"]\n",
    "    for alg in experiment_map:\n",
    "        PATH = dir + experiment_map[alg] + \".csv\"\n",
    "        data_to_plot = pd.read_csv(PATH, header=0, names=names)\n",
    "        data_to_plot[\"x_error\"] = data_to_plot[\"real_x\"] - data_to_plot[\"des_x\"]\n",
    "        data_to_plot[\"y_error\"] = data_to_plot[\"real_y\"] - data_to_plot[\"des_y\"]\n",
    "        data_to_plot[\"position_error\"] = np.sqrt(data_to_plot[\"x_error\"]**2 + data_to_plot[\"y_error\"]**2)\n",
    "        data_to_plot[\"theta_error\"] = data_to_plot[\"real_theta\"] - data_to_plot[\"des_theta\"]\n",
    "        ts = data_to_plot[\"time\"].to_numpy()\n",
    "        position_error = data_to_plot[\"position_error\"].to_numpy()\n",
    "        theta_error = data_to_plot[\"theta_error\"].to_numpy()\n",
    "        axs[0].plot(ts, position_error, label=alg)\n",
    "        axs[1].plot(ts, theta_error, label=alg)\n",
    "\n",
    "    ylabels = [\"position error\", \"theta error\"]\n",
    "    for i in range(2):\n",
    "        ax = axs[i] \n",
    "        ax.axhline(y=0, color='black', linestyle='--')\n",
    "        ax.legend(loc=\"upper right\", fontsize=12, frameon=False)\n",
    "        ax.set_ylabel(ylabels[i], fontsize=16)\n",
    "        ax.set_xlabel(\"time\", fontsize=16)"
   ]
  },
  {
   "cell_type": "code",
   "execution_count": null,
   "metadata": {},
   "outputs": [],
   "source": [
    "straight_line_exp_map = {\"LBAC\": \"straight_line_LBAC\",\n",
    "                        \"MPC\": \"straight_line_mpc\",\n",
    "                        \"RSPO\": \"straight_line_RSPO_1_crash\",\n",
    "                        \"SQRL\": \"straight_line_SQRL_2_timeout\"}\n",
    "\n",
    "fig, axs = plt.subplots(2, figsize=(10, 8))\n",
    "plot_car_error(straight_line_exp_map, axs)\n",
    "axs[0].set_title(\"State Error: Straight Line\", fontsize=20)\n",
    "plt.show()"
   ]
  },
  {
   "cell_type": "code",
   "execution_count": null,
   "metadata": {},
   "outputs": [],
   "source": [
    "half_circle_exp_map = {\"LBAC\": \"half_circle_LBAC_fast_traj\",\n",
    "                        \"MPC\": \"half_circle_MPC_fast_traj\",\n",
    "                        \"RSPO\": \"half_circle_RSPO_fast_traj\",\n",
    "                        \"SQRL\": \"half_circle_SQRL_fast_traj\"}\n",
    "\n",
    "fig, axs = plt.subplots(2, figsize=(10, 8))\n",
    "plot_car_error(half_circle_exp_map, axs)\n",
    "axs[0].set_title(\"State Error: Half Circle\", fontsize=20)\n",
    "plt.show()"
   ]
  },
  {
   "cell_type": "code",
   "execution_count": null,
   "metadata": {},
   "outputs": [],
   "source": [
    "half_circle_exp_map = {\"LBAC\": \"half_circle_LBAC\",\n",
    "                        \"MPC\": \"half_circle_mpc_good_traj\",\n",
    "                        \"RSPO\": \"half_circle_RSPO\",\n",
    "                        \"SQRL\": \"half_circle_SQRL\"}\n",
    "\n",
    "fig, axs = plt.subplots(2, figsize=(10, 8))\n",
    "plot_car_error(half_circle_exp_map, axs)\n",
    "axs[0].set_title(\"State Error: Half Circle\", fontsize=20)\n",
    "plt.show()"
   ]
  },
  {
   "cell_type": "code",
   "execution_count": null,
   "metadata": {},
   "outputs": [],
   "source": [
    "def plot_car_traj(experiment_map, axs):\n",
    "    names = [\"time\", \"real_x\", \"real_y\", \"real_theta\", \"des_x\", \"des_y\", \"des_theta\"]\n",
    "    for alg in experiment_map:\n",
    "        PATH = dir + experiment_map[alg] + \".csv\"\n",
    "        data_to_plot = pd.read_csv(PATH, header=0, names=names)\n",
    "        real_x = data_to_plot[\"real_x\"].to_numpy()\n",
    "        real_y = data_to_plot[\"real_y\"].to_numpy()\n",
    "        axs.plot(real_x, real_y, label=alg)\n",
    "\n",
    "    ylabels = [\"position error\", \"theta error\"]\n",
    "    axs.legend(loc=\"upper right\", fontsize=12, frameon=False)\n",
    "    axs.set_ylabel(\"Y\", fontsize=16)\n",
    "    axs.set_xlabel(\"X\", fontsize=16)"
   ]
  },
  {
   "cell_type": "code",
   "execution_count": null,
   "metadata": {},
   "outputs": [],
   "source": [
    "fig, axs = plt.subplots(1, figsize=(8, 8))\n",
    "plot_car_traj(straight_line_exp_map, axs)\n",
    "axs.set_title(\"Real Trajectory: Straight Line\", fontsize=20)\n",
    "axs.axhline(0, color='black', linestyle='--')\n",
    "axs.axvline(0, color='black', linestyle='--')\n",
    "plt.show()"
   ]
  },
  {
   "cell_type": "code",
   "execution_count": null,
   "metadata": {},
   "outputs": [],
   "source": [
    "fig, axs = plt.subplots(1, figsize=(8, 8))\n",
    "plot_car_traj(half_circle_exp_map, axs)\n",
    "axs.set_title(\"Real Trajectory: Half Circle\", fontsize=20)\n",
    "axs.axhline(0, color='black', linestyle='--')\n",
    "axs.axvline(0, color='black', linestyle='--')\n",
    "plt.show()"
   ]
  }
 ],
 "metadata": {
  "interpreter": {
   "hash": "96e0b108776c78b5cda65fd4c3038f220ed3a169480f8d80518a0bf08276259c"
  },
  "kernelspec": {
   "display_name": "Python 3.9.12 ('robo_base')",
   "language": "python",
   "name": "python3"
  },
  "language_info": {
   "codemirror_mode": {
    "name": "ipython",
    "version": 3
   },
   "file_extension": ".py",
   "mimetype": "text/x-python",
   "name": "python",
   "nbconvert_exporter": "python",
   "pygments_lexer": "ipython3",
   "version": "3.9.12"
  },
  "orig_nbformat": 4
 },
 "nbformat": 4,
 "nbformat_minor": 2
}
